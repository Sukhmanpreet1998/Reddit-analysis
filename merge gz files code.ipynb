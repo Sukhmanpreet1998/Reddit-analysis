{
 "cells": [
  {
   "cell_type": "code",
   "execution_count": 7,
   "id": "ca4ef9e4",
   "metadata": {},
   "outputs": [
    {
     "name": "stdout",
     "output_type": "stream",
     "text": [
      "Merged JSON data saved to: E:\\Downloads1\\cmpt353\\project\\submission_merged.json\n"
     ]
    }
   ],
   "source": [
    "import os\n",
    "import gzip\n",
    "import json\n",
    "\n",
    "folder_path = 'E:\\\\Downloads1\\\\cmpt353\\\\project\\\\all_submissions'\n",
    "\n",
    "file_names = [os.path.join(folder_path, file) for file in os.listdir(folder_path) if file.endswith('.json.gz')]\n",
    "\n",
    "json_data_list = []\n",
    "\n",
    "for file_name in file_names:\n",
    "    with gzip.open(file_name, 'rb') as f: \n",
    "        content = f.read().decode('utf-8')\n",
    "\n",
    "        json_objects = content.strip().split('\\n')\n",
    "\n",
    "        for json_object in json_objects:\n",
    "            if json_object.strip():  # Check if the line is not empty\n",
    "                current_data = json.loads(json_object)\n",
    "                json_data_list.append(current_data)\n",
    "\n",
    "output_file_path = 'E:\\\\Downloads1\\\\cmpt353\\\\project\\\\submission_merged.json'\n",
    "with open(output_file_path, 'w', encoding='utf-8') as output_file:\n",
    "    for json_object in json_data_list:  # Corrected to use json_data_list\n",
    "        # Write each JSON object to a new line in the output file\n",
    "        json.dump(json_object, output_file, ensure_ascii=False)\n",
    "        output_file.write('\\n')\n",
    "\n",
    "print(f\"Merged JSON data saved to: {output_file_path}\")\n"
   ]
  },
  {
   "cell_type": "raw",
   "id": "4d733619",
   "metadata": {},
   "source": []
  },
  {
   "cell_type": "code",
   "execution_count": null,
   "id": "c557a0f5",
   "metadata": {},
   "outputs": [],
   "source": []
  },
  {
   "cell_type": "code",
   "execution_count": null,
   "id": "113c7b74",
   "metadata": {},
   "outputs": [],
   "source": []
  }
 ],
 "metadata": {
  "kernelspec": {
   "display_name": "Python 3 (ipykernel)",
   "language": "python",
   "name": "python3"
  },
  "language_info": {
   "codemirror_mode": {
    "name": "ipython",
    "version": 3
   },
   "file_extension": ".py",
   "mimetype": "text/x-python",
   "name": "python",
   "nbconvert_exporter": "python",
   "pygments_lexer": "ipython3",
   "version": "3.10.9"
  }
 },
 "nbformat": 4,
 "nbformat_minor": 5
}
