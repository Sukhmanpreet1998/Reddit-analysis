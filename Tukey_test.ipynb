{
 "cells": [
  {
   "cell_type": "code",
   "execution_count": 2,
   "id": "38237a4d",
   "metadata": {},
   "outputs": [],
   "source": [
    "from pyclbr import Function\n",
    "import sys\n",
    "from statsmodels.stats.multicomp import pairwise_tukeyhsd\n",
    "from scipy import stats\n",
    "from pyspark.sql import SparkSession, functions, types \n",
    "import pandas as pd\n",
    "import numpy as np\n",
    "import seaborn as sns\n",
    "import matplotlib.pyplot as plt\n",
    "import json"
   ]
  },
  {
   "cell_type": "code",
   "execution_count": null,
   "id": "5453230c",
   "metadata": {},
   "outputs": [],
   "source": [
    "file_path = \"E:\\\\Downloads1\\\\cmpt353\\\\project\\\\submissions_merged.json\"\n",
    "\n",
    "data_list = []\n",
    "with open(file_path, \"r\", encoding=\"utf-8\") as file:\n",
    "    for line in file:\n",
    "        data_dict = json.loads(line)\n",
    "        data_list.append(data_dict)\n",
    "\n",
    "reddit_submissions_df = pd.DataFrame(data_list)"
   ]
  },
  {
   "cell_type": "code",
   "execution_count": null,
   "id": "b5ae71fd",
   "metadata": {},
   "outputs": [],
   "source": [
    "reddit_submissions_df"
   ]
  },
  {
   "cell_type": "code",
   "execution_count": null,
   "id": "178c9309",
   "metadata": {},
   "outputs": [],
   "source": [
    "unique_subreddits = reddit_submissions_df['subreddit'].unique()\n",
    "subreddit_groups = {subreddit: reddit_submissions_df[reddit_submissions_df['subreddit'] == subreddit] for subreddit in unique_subreddits}\n",
    "\n",
    "tukey_data = pd.concat([group['score'] for group in subreddit_groups.values()])\n",
    "labels = [subreddit for subreddit in subreddit_groups.keys() for _ in range(len(subreddit_groups[subreddit]))]\n",
    "tukey_result = pairwise_tukeyhsd(tukey_data, labels, alpha=0.05)"
   ]
  },
  {
   "cell_type": "code",
   "execution_count": null,
   "id": "71f4bc87",
   "metadata": {},
   "outputs": [],
   "source": [
    "print(tukey_result.summary())"
   ]
  },
  {
   "cell_type": "code",
   "execution_count": null,
   "id": "e8b0f515",
   "metadata": {},
   "outputs": [],
   "source": [
    "reddit_submissions_df['created_utc'] = pd.to_datetime(reddit_submissions_df['created_utc'], unit='s')\n",
    "reddit_submissions_df['year'] = reddit_submissions_df['created_utc'].dt.year"
   ]
  },
  {
   "cell_type": "code",
   "execution_count": null,
   "id": "bbe3ca1a",
   "metadata": {},
   "outputs": [],
   "source": [
    "print(reddit_submissions_df[['created_utc', 'year', 'subreddit', 'score']])"
   ]
  },
  {
   "cell_type": "code",
   "execution_count": null,
   "id": "8a933a5d",
   "metadata": {},
   "outputs": [],
   "source": [
    "sns.set(style=\"whitegrid\")\n",
    "plt.figure(figsize=(12, 8))\n",
    "sns.scatterplot(x='created_utc', y='score', hue='subreddit', data=reddit_submissions_df, alpha=0.7)\n",
    "plt.xlabel('Creation Time (UTC)')\n",
    "plt.ylabel('Score')\n",
    "plt.title('Scatter Plot of Scores vs. Creation Time for Different Subreddits')\n",
    "plt.xticks(rotation=45, ha='right')\n",
    "plt.legend()\n",
    "plt.savefig('scatterplot.png')\n",
    "plt.show()"
   ]
  },
  {
   "cell_type": "code",
   "execution_count": null,
   "id": "0dd7e76a",
   "metadata": {},
   "outputs": [],
   "source": [
    "sns.set(style=\"whitegrid\")\n",
    "plt.figure(figsize=(12, 8))\n",
    "sns.scatterplot(x='created_utc', y='score', hue='subreddit', data=reddit_submissions_df[reddit_submissions_df['subreddit'] !='xkcd'], alpha=0.7)\n",
    "plt.xlabel('Creation Time (UTC)')\n",
    "plt.ylabel('Score')\n",
    "plt.title('Scatter Plot of Scores vs. Creation Time for Different Subreddits')\n",
    "plt.xticks(rotation=45, ha='right')\n",
    "plt.legend()\n",
    "plt.savefig('scatterplot_exclude_xkcd.png')\n",
    "plt.show()"
   ]
  },
  {
   "cell_type": "code",
   "execution_count": null,
   "id": "b616822a",
   "metadata": {},
   "outputs": [],
   "source": [
    "reddit_submissions_df['created_utc'] = pd.to_datetime(reddit_submissions_df['created_utc'], unit='s')\n",
    "reddit_submissions_df['year_month'] = reddit_submissions_df['created_utc'].dt.to_period('M')\n",
    "sns.set(style=\"whitegrid\")\n",
    "exlude_outliers=reddit_submissions_df[reddit_submissions_df['subreddit'] !='xkcd']\n",
    "plt.figure(figsize=(12, 8))\n",
    "sns.scatterplot(x='created_utc', y='score', hue='subreddit', data=exlude_outliers, alpha=0.7)\n",
    "\n",
    "for subreddit in exlude_outliers['subreddit'].unique():\n",
    "    avg_scores = exlude_outliers[exlude_outliers['subreddit'] == subreddit].groupby('year_month')['score'].mean()\n",
    "    plt.plot(avg_scores.index.astype(str), avg_scores.values, marker='o', linestyle='-', label=f'{subreddit} Average')\n",
    "\n",
    "\n",
    "plt.xlabel('Creation Time (UTC)')\n",
    "plt.ylabel('Score')\n",
    "plt.title('Scatter Plot of Scores vs. Creation Time for Different Subreddits (Except xkcd) with Subreddit Monthly Averages')\n",
    "plt.xticks(ticks=['2016-01', '2017-01', '2018-01', '2019-01', '2020-01', '2021-01'], labels=['2016-01', '2017-01', '2018-01', '2019-01', '2020-01', '2021-01'], rotation=45, ha='right')\n",
    "plt.legend()\n",
    "plt.savefig('lineplot_excluded_xkcd.png')\n",
    "plt.show()\n"
   ]
  },
  {
   "cell_type": "code",
   "execution_count": null,
   "id": "20e1c710",
   "metadata": {},
   "outputs": [],
   "source": [
    "reddit_submissions_df['created_utc'] = pd.to_datetime(reddit_submissions_df['created_utc'], unit='s')\n",
    "reddit_submissions_df['year_month'] = reddit_submissions_df['created_utc'].dt.to_period('M')\n",
    "\n",
    "sns.set(style=\"whitegrid\")\n",
    "plt.figure(figsize=(12, 8))\n",
    "sns.scatterplot(x='created_utc', y='score', hue='subreddit', data=reddit_submissions_df, alpha=0.7)\n",
    "\n",
    "for subreddit in reddit_submissions_df['subreddit'].unique():\n",
    "    avg_scores = reddit_submissions_df[reddit_submissions_df['subreddit'] == subreddit].groupby('year_month')['score'].mean()\n",
    "    plt.plot(avg_scores.index.astype(str), avg_scores.values, marker='o', linestyle='-', label=f'{subreddit} Average')\n",
    "\n",
    "plt.xlabel('Creation Time (UTC)')\n",
    "plt.ylabel('Score')\n",
    "plt.title('Scatter Plot of Scores vs. Creation Time for Different Subreddits with Subreddit Monthly Averages')\n",
    "plt.xticks(ticks=['2016-01', '2017-01', '2018-01', '2019-01', '2020-01', '2021-01'], labels=['2016-01', '2017-01', '2018-01', '2019-01', '2020-01', '2021-01'], rotation=45, ha='right')\n",
    "plt.ylim(bottom=-200)\n",
    "plt.legend()\n",
    "plt.savefig('lineplot_averages.png')\n",
    "plt.show()\n"
   ]
  },
  {
   "cell_type": "code",
   "execution_count": null,
   "id": "de6159d5",
   "metadata": {},
   "outputs": [],
   "source": [
    "reddit_submissions_df['created_utc'] = pd.to_datetime(reddit_submissions_df['created_utc'], unit='s')\n",
    "reddit_submissions_df['year_month'] = reddit_submissions_df['created_utc'].dt.to_period('M')\n",
    "def calculate_summary_stats(subreddit_data):\n",
    "    stats = {\n",
    "        'Min': subreddit_data['score'].min(),\n",
    "        'Q1': subreddit_data['score'].quantile(0.25),\n",
    "        'Median': subreddit_data['score'].median(),\n",
    "        'Q3': subreddit_data['score'].quantile(0.75),\n",
    "        'Max': subreddit_data['score'].max()\n",
    "    }\n",
    "    return pd.Series(stats)\n",
    "summary_stats_df = pd.DataFrame(columns=['Subreddit', 'Year', 'Min', 'Q1', 'Median', 'Q3', 'Max'])\n",
    "for subreddit in reddit_submissions_df['subreddit'].unique():\n",
    "    for year in reddit_submissions_df['year'].unique():\n",
    "        subset = reddit_submissions_df[(reddit_submissions_df['subreddit'] == subreddit) & (reddit_submissions_df['year'] == year)]\n",
    "        summary_stats = calculate_summary_stats(subset)\n",
    "        summary_stats_df = summary_stats_df.append({'Subreddit': subreddit, 'Year': year, **summary_stats}, ignore_index=True)\n",
    "\n",
    "summary_stats_df = summary_stats_df.sort_values(by=['Subreddit', 'Year']).reset_index(drop=True)\n",
    "summary_stats_df.to_csv(\"Scores_by_IQR_Yearly.csv\", index=False)"
   ]
  },
  {
   "cell_type": "code",
   "execution_count": null,
   "id": "652eddf1",
   "metadata": {},
   "outputs": [],
   "source": [
    "summary_stats_df"
   ]
  }
 ],
 "metadata": {
  "kernelspec": {
   "display_name": "Python 3 (ipykernel)",
   "language": "python",
   "name": "python3"
  },
  "language_info": {
   "codemirror_mode": {
    "name": "ipython",
    "version": 3
   },
   "file_extension": ".py",
   "mimetype": "text/x-python",
   "name": "python",
   "nbconvert_exporter": "python",
   "pygments_lexer": "ipython3",
   "version": "3.10.9"
  }
 },
 "nbformat": 4,
 "nbformat_minor": 5
}
